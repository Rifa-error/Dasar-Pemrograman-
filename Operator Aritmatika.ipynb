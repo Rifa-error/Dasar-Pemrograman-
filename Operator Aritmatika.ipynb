{
 "cells": [
  {
   "cell_type": "code",
   "execution_count": 3,
   "id": "8a2a391d-b5eb-4071-b05f-105388fbdb0e",
   "metadata": {},
   "outputs": [
    {
     "name": "stdin",
     "output_type": "stream",
     "text": [
      "Isikan Nilai X : 4\n",
      "Isikan Nilai Y : 4\n"
     ]
    },
    {
     "name": "stdout",
     "output_type": "stream",
     "text": [
      "Hasil Penjumlahan 4 + 4 = 8\n",
      "Hasil Penjumlahan 4 - 4 = 0\n",
      "Hasil Penjumlahan 4 * 4 = 16\n",
      "Hasil Penjumlahan 4 / 4 = 1.0\n",
      "Hasil Penjumlahan 4 % 4 = 0\n",
      "Hasil Penjumlahan 4 ** 4 = 256\n",
      "Hasil Penjumlahan 4 // 4 = 1\n"
     ]
    }
   ],
   "source": [
    "x = int(input(\"Isikan Nilai X :\"))\n",
    "y = int(input(\"Isikan Nilai Y :\"))\n",
    "\n",
    "hasilTambah= x + y\n",
    "hasilKurang= x - y\n",
    "hasilKali= x * y\n",
    "hasilBagi= x / y\n",
    "hasilMod= x % y\n",
    "hasilPangkat= x ** y\n",
    "hasilBagiBulat= x // y\n",
    "\n",
    "print(\"Hasil Penjumlahan\",x,\"+\",y,\"=\",hasilTambah)\n",
    "print(\"Hasil Pengurangan\",x,\"-\",y,\"=\",hasilKurang)\n",
    "print(\"Hasil Perkalian\",x,\"*\",y,\"=\",hasilKali)\n",
    "print(\"Hasil Pembagian\",x,\"/\",y,\"=\",hasilBagi)\n",
    "print(\"Hasil Modulus\",x,\"%\",y,\"=\",hasilMod)\n",
    "print(\"Hasil Pangkat\",x,\"**\",y,\"=\",hasilPangkat)\n",
    "print(\"Hasil Bagi Bulat\",x,\"//\",y,\"=\",hasilBagiBulat)"
   ]
  },
  {
   "cell_type": "code",
   "execution_count": 5,
   "id": "87599b02-98a8-4a82-bfbb-574e2c826ca4",
   "metadata": {},
   "outputs": [
    {
     "name": "stdin",
     "output_type": "stream",
     "text": [
      "Isikan Nilai : 4\n"
     ]
    },
    {
     "name": "stdout",
     "output_type": "stream",
     "text": [
      "Nilai dari variabel <nilai> adalah: 4\n",
      "<nilai> setelah ditambahkan dengan 5 adalah: 9\n",
      "<nilai> setelah dikurangkan dengan 10 adalah: -1\n",
      "<nilai> setelah dikalikan dengan 4 adalah: -4\n",
      "<nilai> setelah dibagi dengan 2 adalah: -2.0\n"
     ]
    }
   ],
   "source": [
    "nilai = int(input(\"Isikan Nilai :\"))\n",
    "print(\"Nilai dari variabel <nilai> adalah:\",nilai)\n",
    "nilai+=5\n",
    "print(\"<nilai> setelah ditambahkan dengan 5 adalah:\",nilai)\n",
    "nilai-=10\n",
    "print(\"<nilai> setelah dikurangkan dengan 10 adalah:\",nilai)\n",
    "nilai*=4\n",
    "print(\"<nilai> setelah dikalikan dengan 4 adalah:\",nilai)\n",
    "nilai/=2\n",
    "print(\"<nilai> setelah dibagi dengan 2 adalah:\",nilai)"
   ]
  },
  {
   "cell_type": "code",
   "execution_count": 9,
   "id": "fd863429-39a1-4c4b-93b9-a7b70a8aba5b",
   "metadata": {},
   "outputs": [
    {
     "name": "stdin",
     "output_type": "stream",
     "text": [
      "Isikan Nilai 1: 5\n",
      "Isikan Nilai 2: 6\n"
     ]
    },
    {
     "name": "stdout",
     "output_type": "stream",
     "text": [
      "Apakah 5 Sama dengan 6 ? False\n",
      "Apakah 5 Tidak sama dengan 6 ? True\n",
      "Apakah 5 Lebih besar 6 ? False\n",
      "Apakah 5 Lebih kecil 6 ? True\n",
      "Apakah 5 Lebih kecil atau sama dengan 6 ? True\n",
      "Apakah 5 Lebih besar atau sama dengan 6 ? False\n"
     ]
    }
   ],
   "source": [
    "val1 = int(input(\"Isikan Nilai 1:\"))\n",
    "val2 = int(input(\"Isikan Nilai 2:\"))\n",
    "\n",
    "print(\"Apakah\",val1,\"Sama dengan\",val2,\"?\",val1==val2)\n",
    "print(\"Apakah\",val1,\"Tidak sama dengan\",val2,\"?\",val1!=val2)\n",
    "print(\"Apakah\",val1,\"Lebih besar\",val2,\"?\",val1>val2)\n",
    "print(\"Apakah\",val1,\"Lebih kecil\",val2,\"?\",val1<val2)\n",
    "print(\"Apakah\",val1,\"Lebih kecil atau sama dengan\",val2,\"?\",val1<=val2)\n",
    "print(\"Apakah\",val1,\"Lebih besar atau sama dengan\",val2,\"?\",val1>=val2)"
   ]
  },
  {
   "cell_type": "code",
   "execution_count": 13,
   "id": "0dd87f6a-0571-44c7-a5b6-5b1df714b7b0",
   "metadata": {},
   "outputs": [
    {
     "name": "stdin",
     "output_type": "stream",
     "text": [
      "Isikan Bilangan 1: 3\n",
      "Isikan Bilangan 2: 3\n"
     ]
    },
    {
     "name": "stdout",
     "output_type": "stream",
     "text": [
      "Apakah <num1> %2 = 0 and <num2> > 4 False\n",
      "Apakah <num1> %2 = 0 atau <num2> > 4 False\n",
      "Apakah <num1> %2 = 0 atau <num2> > 4 True\n"
     ]
    }
   ],
   "source": [
    "num1 = int(input(\"Isikan Bilangan 1:\"))\n",
    "num2 = int(input(\"Isikan Bilangan 2:\"))\n",
    "\n",
    "print(\"Apakah <num1> %2 = 0 and <num2> > 4\",num1 %2==0 and num2 > 4)\n",
    "print(\"Apakah <num1> %2 = 0 atau <num2> > 4\",num1 %2==0 or num2 > 4)\n",
    "print(\"Apakah <num1> %2 = 0 atau <num2> > 4\",not(num1 %2==0 and num2 > 4))"
   ]
  },
  {
   "cell_type": "markdown",
   "id": "9af53d35-c854-4466-aac6-9ea1443691a2",
   "metadata": {},
   "source": [
    "<h1>OPERATOR IDENTITAS</h1>"
   ]
  },
  {
   "cell_type": "code",
   "execution_count": 15,
   "id": "7ade4ff0-ab64-4f72-98f0-fec78baabbe6",
   "metadata": {},
   "outputs": [
    {
     "name": "stdout",
     "output_type": "stream",
     "text": [
      "Alamat Memori number1: 140732784454360\n",
      "Alamat Memori number2: 1837505686592\n",
      "Alamat Memori number3: 1837505686592\n",
      "False\n",
      "True\n",
      "True\n"
     ]
    }
   ],
   "source": [
    "number1 = 10\n",
    "number2 = \"10\"\n",
    "number3=number2\n",
    "\n",
    "print(\"Alamat Memori number1:\",id(number1))\n",
    "print(\"Alamat Memori number2:\",id(number2))\n",
    "print(\"Alamat Memori number3:\",id(number3))\n",
    "\n",
    "print(number1 is number2)\n",
    "print(number2 is number3)\n",
    "print(number1 is not number2)"
   ]
  },
  {
   "cell_type": "markdown",
   "id": "174fee30-d7fe-4ba9-a14b-a4905a89c6da",
   "metadata": {},
   "source": [
    "<h1>OPERATOR KEANGGOTAAN</h1>"
   ]
  },
  {
   "cell_type": "code",
   "execution_count": 17,
   "id": "26e36b2b-b9f3-4c30-ad09-a931b9991288",
   "metadata": {},
   "outputs": [
    {
     "name": "stdout",
     "output_type": "stream",
     "text": [
      "True\n",
      "False\n",
      "True\n"
     ]
    }
   ],
   "source": [
    "nama = \"Prabowo\"\n",
    "print(\"P\" in nama)\n",
    "listPresiden = {\"Soekarno\",\"Soeharto\",\"Habibi\",\"Gus Dur\"}\n",
    "print(nama in listPresiden)\n",
    "print(nama not in listPresiden)"
   ]
  },
  {
   "cell_type": "markdown",
   "id": "edccb6ab-9dfe-4545-924d-5899cf2c0d43",
   "metadata": {},
   "source": [
    "<h1>OPERATOR BITWISE</h1>"
   ]
  },
  {
   "cell_type": "code",
   "execution_count": 29,
   "id": "065b8380-fd6e-4ad1-8094-aaff8d969d2c",
   "metadata": {},
   "outputs": [
    {
     "name": "stdin",
     "output_type": "stream",
     "text": [
      "Isikan bilangan 1: 33\n",
      "Isikan bilangan 2: 33\n"
     ]
    },
    {
     "name": "stdout",
     "output_type": "stream",
     "text": [
      "0b100001\n",
      "0b100001\n",
      "------------------&\n",
      "0b100001 = 33\n",
      "\n",
      "0b100001\n",
      "0b100001\n",
      "------------------|\n",
      "0b100001 = 33\n",
      "\n",
      "0b100001\n",
      "0b100001\n",
      "------------------^\n",
      "0b0 = 0\n",
      "\n",
      "0b100001 Geser Ke kiri sebanyak 33\n",
      "Hasilnya adalah: 0b100001000000000000000000000000000000000 = 283467841536\n",
      "0b100001 Geser Ke kiri sebanyak 33\n",
      "Hasilnya adalah: 0b0 = 0\n"
     ]
    }
   ],
   "source": [
    "number1 = int(input(\"Isikan bilangan 1:\"))\n",
    "number2 = int(input(\"Isikan bilangan 2:\"))\n",
    "\n",
    "print(bin(number1))\n",
    "print(bin(number2))\n",
    "print(\"------------------&\")\n",
    "print(bin(number1 & number2), \"=\" , number1 & number2)\n",
    "print()\n",
    "print(bin(number1))\n",
    "print(bin(number2))\n",
    "print(\"------------------|\")\n",
    "print(bin(number1 | number2), \"=\" , number1 | number2)\n",
    "print()\n",
    "print(bin(number1))\n",
    "print(bin(number2))\n",
    "print(\"------------------^\")\n",
    "print(bin(number1 ^ number2), \"=\" , number1 ^ number2)\n",
    "print()\n",
    "\n",
    "print(bin(number1),\"Geser Ke kiri sebanyak\",number2)\n",
    "print(\"Hasilnya adalah:\",bin(number1 << number2),\"=\",number1<<number2)\n",
    "\n",
    "print(bin(number1),\"Geser Ke kiri sebanyak\",number2)\n",
    "print(\"Hasilnya adalah:\",bin(number1 >> number2),\"=\",number1>>number2)"
   ]
  },
  {
   "cell_type": "markdown",
   "id": "a2f115e3-6c90-4559-8e69-4cbbdecf1f79",
   "metadata": {},
   "source": [
    "<h1>OPERATOR TERNATY</h1>"
   ]
  },
  {
   "cell_type": "code",
   "execution_count": 34,
   "id": "e51e3c45-8205-488b-a953-9d3dfa3ead99",
   "metadata": {},
   "outputs": [
    {
     "name": "stdin",
     "output_type": "stream",
     "text": [
      "Isikan Bilangan: 22\n"
     ]
    },
    {
     "name": "stdout",
     "output_type": "stream",
     "text": [
      "22 Adalah bilangan Genap\n"
     ]
    }
   ],
   "source": [
    "#Bilangan ganjil atau genap\n",
    "number = int(input(\"Isikan Bilangan:\"))\n",
    "oddEven = \"Genap\" if number % 2==0 else \"Ganjil\"\n",
    "print(number, \"Adalah bilangan\",oddEven)"
   ]
  },
  {
   "cell_type": "code",
   "execution_count": null,
   "id": "49e5d510-72e0-4772-ba3f-9acf7674fba8",
   "metadata": {},
   "outputs": [],
   "source": [
    "pisang = int(input(\"Isikan Jumlah pisang:\"))\n",
    "kolak = int(input(\"Isikan Jumlah Kolak:\"))\n",
    "esBuah = int(input(\"Isikan Jumlah Es Buah:\"))\n",
    "\n",
    "pisang1 = 13000\n",
    "Kolak1 = 7000\n",
    "Esbuah1 = 15000\n",
    "\n",
    "hasilKali= pisang*pisang1\n",
    "hasilKolak = Kolak*Kolak1\n",
    "hasilEsBuah = Esbuah*EsBuah1\n",
    "\n",
    "print(\"Jumlah Harga:\",pisang,\"*\",pisang1,\"=\",hasilKali)\n",
    "print(\"Jumlah Harga"
   ]
  }
 ],
 "metadata": {
  "kernelspec": {
   "display_name": "Python [conda env:base] *",
   "language": "python",
   "name": "conda-base-py"
  },
  "language_info": {
   "codemirror_mode": {
    "name": "ipython",
    "version": 3
   },
   "file_extension": ".py",
   "mimetype": "text/x-python",
   "name": "python",
   "nbconvert_exporter": "python",
   "pygments_lexer": "ipython3",
   "version": "3.12.7"
  }
 },
 "nbformat": 4,
 "nbformat_minor": 5
}
